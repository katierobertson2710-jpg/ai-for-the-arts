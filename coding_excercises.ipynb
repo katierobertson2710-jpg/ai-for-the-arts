{
 "cells": [
  {
   "cell_type": "markdown",
   "id": "2bd3a813",
   "metadata": {},
   "source": [
    "# Coding Excercises \n",
    "\n",
    "This notebook is for learning basic programming concepts within copilot.\n",
    "\n",
    "My goals for this notebook are:\n",
    "- To learn Python\n",
    "- To use this codespace as an easy setup for coding"
   ]
  },
  {
   "cell_type": "markdown",
   "id": "3d8bc70a",
   "metadata": {},
   "source": [
    "# Hello World \n",
    "\n",
    "The following code was created as my first attempt at\n",
    "programming in this course. It is meant to help me understand how to write and\n",
    "run code in GitHub Codespaces."
   ]
  },
  {
   "cell_type": "code",
   "execution_count": 1,
   "id": "0a259ed0",
   "metadata": {},
   "outputs": [
    {
     "name": "stdout",
     "output_type": "stream",
     "text": [
      "Hello, World!\n"
     ]
    }
   ],
   "source": [
    "print(\"Hello, World!\")"
   ]
  }
 ],
 "metadata": {
  "kernelspec": {
   "display_name": "Python 3",
   "language": "python",
   "name": "python3"
  },
  "language_info": {
   "codemirror_mode": {
    "name": "ipython",
    "version": 3
   },
   "file_extension": ".py",
   "mimetype": "text/x-python",
   "name": "python",
   "nbconvert_exporter": "python",
   "pygments_lexer": "ipython3",
   "version": "3.12.1"
  }
 },
 "nbformat": 4,
 "nbformat_minor": 5
}
